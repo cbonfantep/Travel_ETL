{
 "cells": [
  {
   "cell_type": "code",
   "execution_count": 2,
   "metadata": {},
   "outputs": [
    {
     "name": "stdout",
     "output_type": "stream",
     "text": [
      "[{'type': 'checkin-link', 'id': 'BAEN-GBAll', 'href': 'https://www.britishairways.com/travel/olcilandingpageauthreq/public/en_gb', 'channel': 'All'}, {'type': 'checkin-link', 'id': 'BAEN-GBMobile', 'href': 'https://www.britishairways.com/travel/managebooking/public/en_gb/device-mobile?bookingRef={PNR}&lastname={LAST}', 'channel': 'Mobile', 'parameters': {'LAST': {'description': 'Passenger Last Name', 'type': 'string'}, 'PNR': {'description': 'Record Locator', 'type': 'string', 'format': '([a-zA-Z]|[0-9]){6}'}}}, {'type': 'checkin-link', 'id': 'BAEN-GBWeb', 'href': 'https://www.britishairways.com/travel/managebooking/public/en_gb?&bookingRef={PNR}&lastname={LAST}', 'channel': 'Web', 'parameters': {'LAST': {'description': 'Passenger Last Name', 'type': 'string'}, 'PNR': {'description': 'Record Locator', 'type': 'string', 'format': '([a-zA-Z]|[0-9]){6}'}}}]\n"
     ]
    }
   ],
   "source": [
    "import pandas as pd\n",
    "from sqlalchemy import create_engine\n",
    "\n",
    "\n",
    "from amadeus import Client, ResponseError\n",
    "\n",
    "\n",
    "amadeus = Client(\n",
    "    client_id='mfWDFAuJHzCAyiuyrF2ZNPLt86x6pBHe',\n",
    "    client_secret='20kJCr29aZVItX2F'\n",
    ")\n",
    "\n",
    "try:\n",
    "    response = amadeus.reference_data.urls.checkin_links.get(airlineCode='BA')\n",
    "    print(response.data)\n",
    "except ResponseError as error:\n",
    "    print(error)"
   ]
  },
  {
   "cell_type": "markdown",
   "metadata": {},
   "source": [
    "# Store JSON data into a DataFrame"
   ]
  },
  {
   "cell_type": "code",
   "execution_count": null,
   "metadata": {},
   "outputs": [],
   "source": [
    "#json_file = \"../Resources/customer_location.json\"\n",
    "# customer_location_df = pd.read_json(json_file)\n",
    "# customer_location_df.head()"
   ]
  },
  {
   "cell_type": "markdown",
   "metadata": {},
   "source": [
    "# Clean DataFrame"
   ]
  },
  {
   "cell_type": "code",
   "execution_count": null,
   "metadata": {},
   "outputs": [],
   "source": []
  },
  {
   "cell_type": "markdown",
   "metadata": {},
   "source": [
    "# Connect to local database"
   ]
  },
  {
   "cell_type": "code",
   "execution_count": null,
   "metadata": {},
   "outputs": [],
   "source": []
  },
  {
   "cell_type": "markdown",
   "metadata": {},
   "source": [
    "# Use pandas to load json converted DataFrame into database"
   ]
  },
  {
   "cell_type": "code",
   "execution_count": null,
   "metadata": {},
   "outputs": [],
   "source": []
  },
  {
   "cell_type": "code",
   "execution_count": null,
   "metadata": {},
   "outputs": [],
   "source": [
    "# Flight Most Traveled Destinations Where were people flying to from Madrid in the January 2017? \n",
    "# GET/v1/travel/analytics/air-traffc/traveled ?originCityCode=MAD&period=2017-01"
   ]
  },
  {
   "cell_type": "code",
   "execution_count": null,
   "metadata": {},
   "outputs": [],
   "source": [
    "# Flight Low-fare Search I know where I want to fly, the dates and duration, what are the best flight deals?\n",
    "# GET/v1/shopping/fight-offers ?origin=PAR&destination=LON&departureDate=2019-07-25&returnDate=2019-07-28"
   ]
  },
  {
   "cell_type": "code",
   "execution_count": null,
   "metadata": {},
   "outputs": [],
   "source": [
    "# Flight Inspiration Search\n",
    "amadeus.shopping.flight_destinations.get(origin='MAD')\n",
    "\n",
    "# Flight Cheapest Date Search\n",
    "amadeus.shopping.flight_dates.get(origin='MAD', destination='MUC')\n",
    "\n",
    "# Flight Low-fare Search\n",
    "amadeus.shopping.flight_offers.get(origin='MAD', destination='NYC', departureDate='2019-08-01')\n",
    "\n",
    "# Flight Choice Prediction\n",
    "result = amadeus.shopping.flight_offers.get(origin='MAD', destination='NYC', departureDate='2019-08-01').result\n",
    "amadeus.shopping.flight_offers.prediction.post(result)\n",
    "\n",
    "# Flight Checkin Links\n",
    "amadeus.reference_data.urls.checkin_links.get(airlineCode='BA')\n",
    "\n",
    "# Airline Code Lookup\n",
    "amadeus.reference_data.airlines.get(airlineCodes='U2')\n",
    "\n",
    "# Airport and City Search (autocomplete)\n",
    "# Find all the cities and airports starting by 'LON'\n",
    "amadeus.reference_data.locations.get(keyword='LON', subType=Location.ANY)\n",
    "# Get a specific city or airport based on its id\n",
    "amadeus.reference_data.location('ALHR').get()\n",
    "\n",
    "# Airport Nearest Relevant Airport (for London)\n",
    "amadeus.reference_data.locations.airports.get(longitude=0.1278, latitude=51.5074)\n",
    "\n",
    "# Flight Most Searched Destinations\n",
    "# Which were the most searched flight destinations from Madrid in August 2017?\n",
    "amadeus.travel.analytics.air_traffic.searched.get(originCityCode='MAD', marketCountryCode='ES', searchPeriod='2017-08')\n",
    "# How many people in Spain searched for a trip from Madrid to New-York in September 2017?\n",
    "amadeus.travel.analytics.air_traffic.searched_by_destination.get(originCityCode='MAD', destinationCityCode='NYC', marketCountryCode='ES', searchPeriod='2017-08')\n",
    "\n",
    "# Flight Most Booked Destinations\n",
    "amadeus.travel.analytics.air_traffic.booked.get(originCityCode='MAD', period='2017-08')\n",
    "\n",
    "# Flight Most Traveled Destinations\n",
    "amadeus.travel.analytics.air_traffic.traveled.get(originCityCode='MAD', period='2017-01')\n",
    "\n",
    "# Flight Busiest Travel Period\n",
    "amadeus.travel.analytics.air_traffic.busiest_period.get(cityCode='MAD', period='2017', direction='ARRIVING')\n",
    "\n",
    "# Hotel Search\n",
    "# Get list of Hotels by city code\n",
    "amadeus.shopping.hotel_offers.get(cityCode = 'LON')\n",
    "# Get list of offers for a specific hotel\n",
    "amadeus.shopping.hotel_offers_by_hotel.get(hotelId = 'IALONCHO')\n",
    "# Confirm the availability of a specific offer\n",
    "amadeus.shopping.hotel_offer('D5BEE9D0D08B6678C2F5FAD910DC110BCDA187D21D4FCE68ED423426D0A246BB').get()\n",
    "\n",
    "# Point of Interest\n",
    "# What are the popular places in Barcelona (based a geo location and a radius)\n",
    "amadeus.reference_data.locations.points_of_interest.get(latitude=41.397158, longitude=2.160873)\n",
    "# What are the popular places in Barcelona? (based on a square)\n",
    "amadeus.reference_data.locations.points_of_interest.by_square.get(north=41.397158, west=2.160873, south=41.394582, east=2.177181)"
   ]
  }
 ],
 "metadata": {
  "kernelspec": {
   "display_name": "Python 3",
   "language": "python",
   "name": "python3"
  },
  "language_info": {
   "codemirror_mode": {
    "name": "ipython",
    "version": 3
   },
   "file_extension": ".py",
   "mimetype": "text/x-python",
   "name": "python",
   "nbconvert_exporter": "python",
   "pygments_lexer": "ipython3",
   "version": "3.7.3"
  }
 },
 "nbformat": 4,
 "nbformat_minor": 2
}
